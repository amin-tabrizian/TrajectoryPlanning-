{
 "cells": [
  {
   "cell_type": "code",
   "execution_count": 1,
   "metadata": {},
   "outputs": [],
   "source": [
    "# importing essential libraries\n",
    "from gym import Env\n",
    "from gym.spaces import Discrete, Box, Tuple\n",
    "import numpy as np\n",
    "import random\n",
    "import matplotlib.pyplot as plt\n",
    "import time\n",
    "%matplotlib inline"
   ]
  },
  {
   "cell_type": "code",
   "execution_count": 2,
   "metadata": {},
   "outputs": [],
   "source": [
    "def position_calculator(link1, link2, theta1, theta2):\n",
    "    \n",
    "    # convert angles to radians\n",
    "    theta1rad = np.deg2rad(theta1)\n",
    "    theta2rad = np.deg2rad(theta2)\n",
    "    \n",
    "    # calculate positions\n",
    "    start_1 = [0, 0]\n",
    "    end_1 = [start_1[0] + np.cos(theta1rad)*link1, \\\n",
    "             start_1[1] + np.sin(theta1rad)*link1]\n",
    "\n",
    "    start_2 = end_1\n",
    "    end_2 = [start_2[0] + np.cos(theta2rad)*link2, \\\n",
    "             start_2[1] + np.sin(theta2rad)*link2]\n",
    "    \n",
    "    return start_1, end_1, start_2, end_2"
   ]
  },
  {
   "cell_type": "code",
   "execution_count": 3,
   "metadata": {},
   "outputs": [],
   "source": [
    "def distance(point1, point2):\n",
    "    \n",
    "    return np.sqrt((point1[0] - point2[0])**2+(point1[1] - point2[1])**2)"
   ]
  },
  {
   "cell_type": "code",
   "execution_count": 4,
   "metadata": {},
   "outputs": [],
   "source": [
    "def point_generator1(link1, link2, current_point = [0, 0], bound = 0.5):\n",
    "    \n",
    "    # generate a valid point as current point\n",
    "    if (current_point == [0,0]):\n",
    "      current_point= [np.abs(link1-link2), 0]\n",
    "    \n",
    "    # generate a random point within the neighbourhood of the current point\n",
    "    x = np.random.uniform(low = current_point[0] - bound/2, high = current_point[0] + bound/2)\n",
    "    y = np.random.uniform(low = current_point[1] - bound/2, high = current_point[1] + bound/2)\n",
    "    \n",
    "    # check if the generated point is in the feasible region\n",
    "    while (x**2 + y**2 > (link2+link1)**2 or  x**2 + y**2 <(link2-link1)**2):\n",
    "         x = np.random.uniform(low = current_point[0] - bound/2, high = current_point[0] + bound/2)\n",
    "         y = np.random.uniform(low = current_point[1] - bound/2, high = current_point[1] + bound/2)\n",
    "    \n",
    "    return x, y"
   ]
  },
  {
   "cell_type": "code",
   "execution_count": 5,
   "metadata": {},
   "outputs": [],
   "source": [
    "def point_generator2(link1, link2, current_point = [0, 0], bound = 0.5, \\\n",
    "                     velocity = [1, 1]):\n",
    "\n",
    "    # generate a valid point as current point\n",
    "    if (current_point == [0,0]):\n",
    "      current_point= [np.abs(link1-link2), 0]\n",
    "    \n",
    "    # generate a new point based on the velocity\n",
    "    x = velocity[0] + current_point[0]\n",
    "    y = velocity[1] + current_point[1]\n",
    "    \n",
    "    # check if the generated point is in the feasible region\n",
    "    while (x**2 + y**2 > (link2+link1)**2 or  x**2 + y**2 <(link2-link1)**2):\n",
    "        velocity = np.random.uniform(low = -0.2, high= 0.2, size = 2)\n",
    "        x = velocity[0] + current_point[0]\n",
    "        y = velocity[1] + current_point[1]\n",
    "        \n",
    "    return x, y, velocity[0], velocity[1]"
   ]
  },
  {
   "cell_type": "code",
   "execution_count": 6,
   "metadata": {},
   "outputs": [],
   "source": [
    "class TwoJointsEnv(Env):\n",
    "    def __init__(self, link1_length, link2_length, max_episode_length):\n",
    "        \n",
    "        # Initialize environment variables\n",
    "        self.episode_length = max_episode_length\n",
    "        self.max_length = max_episode_length\n",
    "        self.link1_length = link1_length\n",
    "        self.link2_length = link2_length\n",
    "        self.state = None\n",
    "        self.action_space = Box(low = -5.0, high = 5.0, shape = (2,), dtype=np.float32)\n",
    "        self.observation_space = Tuple(spaces=(Box(low=0, high= 360.0, \\\n",
    "                                       shape = (2,), dtype = np.float32), \\\n",
    "                                       Box(low=-(link1_length+link1_length), \\\n",
    "                                       high = link1_length+link1_length, \\\n",
    "                                       shape = (2,), dtype = np.float32), \\\n",
    "                                       Box(low = -5, high = 5, shape = (2,), \\\n",
    "                                       dtype = np.float32)))\n",
    "        self.object_location = point_generator2(self.link1_length, self.link2_length, bound= 0.5)\n",
    "\n",
    "    def step(self, action):\n",
    "        \n",
    "        temp_state = self.state[0:2].copy()\n",
    "        temp_state += action\n",
    "        for i, theta in enumerate(temp_state[0:2]):\n",
    "          if theta > 360:\n",
    "            temp_state[i] -= 360\n",
    "          if theta < 0:\n",
    "            temp_state[i] += 360\n",
    "        # Add angle difference\n",
    "        self.state[0:2] = temp_state.copy()\n",
    "        \n",
    "        # Update the object location\n",
    "        self.object_location = point_generator2(self.link1_length, self.link2_length, \\\n",
    "                                                self.object_location[0:2], 0.5, \\\n",
    "                                                self.object_location[2:4])\n",
    "        self.state[2:6] = self.object_location\n",
    "        self.episode_length -= 1 \n",
    "        \n",
    "        # Calculate reward\n",
    "        theta1 = self.state[0]\n",
    "        theta2 = self.state[1]\n",
    "        self.start_1, self.end_1, self.start_2, self.end_2 = \\\n",
    "                position_calculator(self.link1_length, self.link2_length, theta1, theta2)\n",
    "        reward = -distance(self.end_2, self.object_location[0:2])\n",
    "        \n",
    "        if self.episode_length <= 0: \n",
    "            done = True\n",
    "        else:\n",
    "            done = False\n",
    "        info = {}\n",
    "        \n",
    "        # Return step information\n",
    "        return self.state, reward, done, info\n",
    "\n",
    "    def render(self):\n",
    "        \n",
    "        plt.plot([self.start_1[0], self.end_1[0]], \\\n",
    "                [self.start_1[1], self.end_1[1]] )\n",
    "        plt.plot([self.start_2[0], self.end_2[0]], \\\n",
    "                [self.start_2[1], self.end_2[1]] , color = 'red')\n",
    "        plt.scatter(self.object_location[0], self.object_location[1])\n",
    "        lim = 1.2*(self.link1_length + self.link2_length)\n",
    "        plt.xlim(0 - lim, 0 +lim)\n",
    "        plt.ylim(0 - lim, 0 + lim)\n",
    "    \n",
    "    def reset(self):\n",
    "        \n",
    "        # Reset states\n",
    "        self.state = np.zeros(shape=(6,), dtype = np.float32)\n",
    "        \n",
    "        # Reset episode length \n",
    "        self.episode_length = self.max_length\n",
    "        \n",
    "        return self.state"
   ]
  },
  {
   "cell_type": "code",
   "execution_count": 7,
   "metadata": {},
   "outputs": [
    {
     "data": {
      "image/png": "[encoded data removed]",
      "text/plain": [
       "<Figure size 432x288 with 1 Axes>"
      ]
     },
     "metadata": {
      "needs_background": "light"
     },
     "output_type": "display_data"
    },
    {
     "data": {
      "image/png": "[encoded data removed]",
      "text/plain": [
       "<Figure size 432x288 with 1 Axes>"
      ]
     },
     "metadata": {
      "needs_background": "light"
     },
     "output_type": "display_data"
    },
    {
     "data": {
      "image/png": "[encoded data removed]",
      "text/plain": [
       "<Figure size 432x288 with 1 Axes>"
      ]
     },
     "metadata": {
      "needs_background": "light"
     },
     "output_type": "display_data"
    },
    {
     "data": {
      "image/png": "[encoded data removed]",
      "text/plain": [
       "<Figure size 432x288 with 1 Axes>"
      ]
     },
     "metadata": {
      "needs_background": "light"
     },
     "output_type": "display_data"
    },
    {
     "data": {
      "image/png": "[encoded data removed]",
      "text/plain": [
       "<Figure size 432x288 with 1 Axes>"
      ]
     },
     "metadata": {
      "needs_background": "light"
     },
     "output_type": "display_data"
    },
    {
     "name": "stdout",
     "output_type": "stream",
     "text": [
      "Episode:1 Score:-43.256450096502086\n"
     ]
    },
    {
     "data": {
      "image/png": "[encoded data removed]",
      "text/plain": [
       "<Figure size 432x288 with 1 Axes>"
      ]
     },
     "metadata": {
      "needs_background": "light"
     },
     "output_type": "display_data"
    },
    {
     "data": {
      "image/png": "[encoded data removed]",
      "text/plain": [
       "<Figure size 432x288 with 1 Axes>"
      ]
     },
     "metadata": {
      "needs_background": "light"
     },
     "output_type": "display_data"
    },
    {
     "data": {
      "image/png": "[encoded data removed]",
      "text/plain": [
       "<Figure size 432x288 with 1 Axes>"
      ]
     },
     "metadata": {
      "needs_background": "light"
     },
     "output_type": "display_data"
    },
    {
     "data": {
      "image/png": "[encoded data removed]",
      "text/plain": [
       "<Figure size 432x288 with 1 Axes>"
      ]
     },
     "metadata": {
      "needs_background": "light"
     },
     "output_type": "display_data"
    },
    {
     "data": {
      "image/png": "[encoded data removed]",
      "text/plain": [
       "<Figure size 432x288 with 1 Axes>"
      ]
     },
     "metadata": {
      "needs_background": "light"
     },
     "output_type": "display_data"
    },
    {
     "name": "stdout",
     "output_type": "stream",
     "text": [
      "Episode:2 Score:-40.14613868687722\n"
     ]
    }
   ],
   "source": [
    "env = TwoJointsEnv(5, 8, 5)\n",
    "episodes = 2\n",
    "for episode in range(1, episodes+1):\n",
    "    state = env.reset()\n",
    "    done = False\n",
    "    score = 0 \n",
    "    while not done:\n",
    "        action = np.random.uniform(low = -5, high = 5,size = 2)\n",
    "        n_state, reward, done, info = env.step(action)\n",
    "        score+=reward\n",
    "        env.render()\n",
    "        plt.show()\n",
    "    print('Episode:{} Score:{}'.format(episode, score))"
   ]
  },
  {
   "cell_type": "code",
   "execution_count": null,
   "metadata": {},
   "outputs": [],
   "source": []
  }
 ],
 "metadata": {
  "kernelspec": {
   "display_name": "Python [conda env:Robotics]",
   "language": "python",
   "name": "conda-env-Robotics-py"
  },
  "language_info": {
   "codemirror_mode": {
    "name": "ipython",
    "version": 3
   },
   "file_extension": ".py",
   "mimetype": "text/x-python",
   "name": "python",
   "nbconvert_exporter": "python",
   "pygments_lexer": "ipython3",
   "version": "3.7.10"
  }
 },
 "nbformat": 4,
 "nbformat_minor": 4
}
